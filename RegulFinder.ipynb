{
 "cells": [
  {
   "cell_type": "markdown",
   "metadata": {},
   "source": [
    "# Find The Regul Parameter\n",
    "This notebook shows the example of finding the regul parameter in ppxf.  \n",
    "Actually, it calculates a series of SFH, then store them into files.  \n",
    "The chi-square statistic is also here.  "
   ]
  },
  {
   "cell_type": "code",
   "execution_count": null,
   "metadata": {},
   "outputs": [],
   "source": [
    "import os\n",
    "import sys\n",
    "import math\n",
    "import glob\n",
    "import numpy as np\n",
    "from os import path\n",
    "import pandas as pd\n",
    "import multiprocessing\n",
    "from ppxf.ppxf import ppxf\n",
    "from astropy.wcs import WCS\n",
    "from astropy.io import fits\n",
    "import ppxf as ppxf_package\n",
    "import ppxf.ppxf_util as util\n",
    "import ppxf.miles_util as lib\n",
    "from astropy import units as u\n",
    "import matplotlib.pyplot as plt\n",
    "from multiprocessing import Pool\n",
    "from specutils import Spectrum1D\n",
    "from astropy import constants as con\n",
    "from time import perf_counter as clock\n",
    "from specutils.manipulation import FluxConservingResampler"
   ]
  },
  {
   "cell_type": "code",
   "execution_count": null,
   "metadata": {},
   "outputs": [],
   "source": [
    "i=122"
   ]
  },
  {
   "cell_type": "code",
   "execution_count": null,
   "metadata": {},
   "outputs": [],
   "source": [
    "def DER_SNR(flux):\n",
    "    from numpy import array,where,median,abs \n",
    "    flux=array(flux)\n",
    "    flux=array(flux[where(flux!=0.0)])\n",
    "    n=len(flux)\n",
    "    if (n>4):\n",
    "        signal=median(flux)\n",
    "        noise=0.6052697*median(abs(2.0*flux[2:n-2]-flux[0:n-4]-flux[4:n]))\n",
    "        return signal,noise\n",
    "    else:return 0,100\n"
   ]
  },
  {
   "cell_type": "code",
   "execution_count": null,
   "metadata": {},
   "outputs": [],
   "source": [
    "def logSpecConverter(spec):\n",
    "    waveOld=spec[:,0]*u.AA\n",
    "    flux=spec[:,1]*u.erg/u.s/u.cm**2/u.AA\n",
    "    noise=spec[:,2]*u.erg/u.s/u.cm**2/u.AA\n",
    "    befSpec=Spectrum1D(spectral_axis=waveOld,flux=flux)\n",
    "    fluxCon=FluxConservingResampler()\n",
    "    waveNew=10**np.linspace(np.log10(waveOld.min().value),np.log10(waveOld.max().value),num=len(waveOld))*u.AA\n",
    "    aftSpec=fluxCon(befSpec,waveNew)\n",
    "    wave=aftSpec.wavelength.value\n",
    "    flux=aftSpec.flux.value\n",
    "    flux[np.isnan(flux)]=0\n",
    "    \n",
    "    befSpecN=Spectrum1D(spectral_axis=waveOld,flux=noise)\n",
    "    fluxCon=FluxConservingResampler()\n",
    "    aftSpecN=fluxCon(befSpecN,waveNew)\n",
    "    noise=aftSpecN.flux.value\n",
    "    noise[np.isnan(noise)]=9*10**9\n",
    "    \n",
    "    return np.array([wave,flux,noise]).T\n",
    "def logSpecConvBack(wave,flux,waveOld):\n",
    "    wave=wave*u.AA\n",
    "    befSpec=Spectrum1D(spectral_axis=wave,flux=flux*u.erg/u.s/u.cm**2/u.AA)\n",
    "    fluxCon=FluxConservingResampler()\n",
    "    aftSpec=fluxCon(befSpec,waveOld*u.AA)\n",
    "    wave=aftSpec.wavelength.value\n",
    "    flux=aftSpec.flux.value\n",
    "    flux[np.isnan(flux)]=0\n",
    "    return flux"
   ]
  },
  {
   "cell_type": "code",
   "execution_count": null,
   "metadata": {},
   "outputs": [],
   "source": [
    "FinalSelMuse=pd.read_csv('../MuseObject/FinalSelMuse.csv',index_col=0)"
   ]
  },
  {
   "cell_type": "code",
   "execution_count": null,
   "metadata": {},
   "outputs": [],
   "source": [
    "oldName=FinalSelMuse['ArcName'][i]\n",
    "newName=oldName.replace('ADP','CDP')\n",
    "mucu=fits.open('../MuseObject/MuseResample/'+newName+'.fits')\n",
    "wavestep=float(mucu[1].header['CD3_3'])\n",
    "wavestart=float(mucu[1].header['CRVAL3'])\n",
    "waveBase=np.arange(wavestart,mucu[1].shape[0]*wavestep+wavestart,wavestep)\n",
    "waveBase=waveBase/(1+FinalSelMuse['Redshift'][i])\n",
    "fitFlux=mucu[1].data*np.nan\n",
    "gasFlux=mucu[1].data*np.nan\n",
    "agePopu=np.zeros([50,7,mucu[1].data.shape[1],mucu[1].data.shape[2]])*np.nan\n",
    "chi2Map=np.zeros([mucu[1].data.shape[1],mucu[1].data.shape[2]])\n",
    "SPmask=np.load('../MuseMasker/FinalMask2/'+str(i)+'_'+FinalSelMuse['SN Name'][i]+'.npy')"
   ]
  },
  {
   "cell_type": "code",
   "execution_count": null,
   "metadata": {},
   "outputs": [],
   "source": [
    "coordX=[]\n",
    "coordY=[]\n",
    "snrList=[]\n",
    "for x in range(mucu[1].data.shape[1]):\n",
    "    for y in range(mucu[1].data.shape[2]):\n",
    "        if SPmask[x,y]==False:continue\n",
    "        flux=mucu[1].data[:,x,y]\n",
    "        flux=flux[np.isnan(flux)==False]\n",
    "        if len(flux)<mucu[1].data.shape[0]/2:continue\n",
    "        signal,noise=DER_SNR(flux)\n",
    "        snrList.append(signal/noise)\n",
    "        coordX.append(x)\n",
    "        coordY.append(y)\n",
    "coordX=np.array(coordX)\n",
    "coordY=np.array(coordY)\n",
    "snrList=np.array(snrList)\n",
    "snrMax=np.argmax(snrList)"
   ]
  },
  {
   "cell_type": "code",
   "execution_count": null,
   "metadata": {},
   "outputs": [],
   "source": [
    "def ppxfRunner(spec,regul):\n",
    "    t=spec.copy()\n",
    "    tie_balmer=False\n",
    "    limit_doublets=False\n",
    "    ppxf_dir=path.dirname(path.realpath(ppxf_package.__file__))\n",
    "    z=0.0\n",
    "    flux=t[:,1]\n",
    "    galaxy=flux/np.median(flux)\n",
    "    wave=t[:,0]\n",
    "    wave*=np.median(util.vac_to_air(wave)/wave)\n",
    "    noise=t[:,2]\n",
    "    c=299792.458  # speed of light in km/s\n",
    "    velscale=c*np.log(wave[1]/wave[0])  # eq.(8) of Cappellari (2017)\n",
    "    FWHM_gal=2.26  # SDSS has an approximate instrumental resolution FWHM of 2.76A.#Califa is 6\n",
    "\n",
    "    pathname='/scratch/user/chenxingzhuo/SNHZ/ppxfSFH/ppxfGrid/EMILES_PADOVA00_BASE_KB_FITS_Sigma228/*'\n",
    "    #pathname='/scratch/user/chenxingzhuo/SNHZ/ppxfSFH/ppxfGrid/bc03_Miles_Kroupa/*'\n",
    "    \n",
    "    miles=lib.miles(pathname,velscale,FWHM_gal)\n",
    "    reg_dim = miles.templates.shape[1:]\n",
    "    stars_templates = miles.templates.reshape(miles.templates.shape[0], -1)\n",
    "    lam_range_gal = np.array([np.min(wave),np.max(wave)])/(1 + z)\n",
    "    gas_templates,gas_names,line_wave=util.emission_lines(\n",
    "        miles.log_lam_temp,lam_range_gal,FWHM_gal,\n",
    "        tie_balmer=tie_balmer,limit_doublets=limit_doublets)\n",
    "    templates=np.column_stack([stars_templates,gas_templates])\n",
    "\n",
    "    dv=c*(miles.log_lam_temp[0]-np.log(wave[0]))  # eq.(8) of Cappellari (2017)\n",
    "    vel=c*np.log(1+z)   # eq.(8) of Cappellari (2017)\n",
    "    start=[vel,280.]  # (km/s), starting guess for [V, sigma]\n",
    "\n",
    "    n_temps = stars_templates.shape[1]\n",
    "    n_forbidden = np.sum([\"[\" in a for a in gas_names])  # forbidden lines contain \"[*]\"\n",
    "    n_balmer = len(gas_names) - n_forbidden\n",
    "\n",
    "    component = [0]*n_temps + [1]*n_balmer + [2]*n_forbidden\n",
    "    gas_component = np.array(component) > 0  # gas_component=True for gas templates\n",
    "    \n",
    "    bounds_star=[[-500,500],[-300,300],[-0.1,0.1],[-0.1,0.1]]\n",
    "    bounds_fbd=[[-500,500],[-300,300]]\n",
    "    bounds_gas=[[-500,500],[-300,300]]\n",
    "    bounds=[bounds_star,bounds_fbd,bounds_gas]\n",
    "    \n",
    "    moments = [4,2,2]\n",
    "    start = [start, start, start]\n",
    "    gas_reddening = 0 if tie_balmer else None\n",
    "\n",
    "    pp = ppxf(templates, galaxy, noise, velscale, start,\n",
    "              plot=True, moments=moments, degree=-1, mdegree=10, vsyst=dv,\n",
    "              lam=wave, clean=False, regul=regul, reg_dim=reg_dim,# I pet regul=1/1.3 is the best\n",
    "              component=component, gas_component=gas_component,\n",
    "              gas_names=gas_names, gas_reddening=gas_reddening,bounds=bounds)\n",
    "    weights=pp.weights[~gas_component]  # Exclude weights of the gas templates\n",
    "    weights=weights.reshape(reg_dim)/weights.sum()  # Normalized\n",
    "    return pp,weights"
   ]
  },
  {
   "cell_type": "code",
   "execution_count": null,
   "metadata": {},
   "outputs": [],
   "source": [
    "xpix,ypix=coordX[snrMax],coordY[snrMax]\n",
    "mask=np.isnan(mucu[1].data[:,xpix,ypix])\n",
    "assert np.sum(mask==0)>len(mask)/2\n",
    "flux=mucu[1].data[:,xpix,ypix]\n",
    "ferr=mucu[2].data[:,xpix,ypix]\n",
    "flux=flux[mask==0]\n",
    "wave=waveBase[mask==0]\n",
    "ferr=ferr[mask==0]**0.5\n",
    "spec=np.array([wave,flux,ferr]).T\n",
    "waveOld=spec[:,0]\n",
    "spec=logSpecConverter(spec)\n",
    "waveNew=spec[:,0]"
   ]
  },
  {
   "cell_type": "code",
   "execution_count": null,
   "metadata": {},
   "outputs": [],
   "source": [
    "fitFluxList=[]\n",
    "gasFluxList=[]\n",
    "chi2List=[]\n",
    "weightList=[]\n",
    "for regul in [1024,512,256,128,64,32,16,8,4,2,1,1/2,1/4,1/8,1/16,1/32,1/64,1/128,1/256,0]:\n",
    "    pp,weights=ppxfRunner(spec,regul=regul)\n",
    "    chi2=pp.chi2\n",
    "    fitFluxOnePix=pp.bestfit\n",
    "    gasFluxOnePix=pp.gas_bestfit\n",
    "    fitFluxOnePix=logSpecConvBack(waveNew,fitFluxOnePix,waveOld)\n",
    "    gasFluxOnePix=logSpecConvBack(waveNew,gasFluxOnePix,waveOld)\n",
    "    \n",
    "    fitFluxList.append(fitFluxOnePix)\n",
    "    gasFluxList.append(gasFluxOnePix)\n",
    "    chi2List.append(chi2)\n",
    "    weightList.append(weights)\n"
   ]
  },
  {
   "cell_type": "code",
   "execution_count": null,
   "metadata": {},
   "outputs": [],
   "source": [
    "fitFluxList=np.array(fitFluxList)\n",
    "gasFluxList=np.array(gasFluxList)\n",
    "chi2List=np.array(chi2List)\n",
    "weightList=np.array(weightList)\n",
    "np.save('RegulFind/'+FinalSelMuse['SN Name'][i]+'.fitFlux.npy',fitFluxList)\n",
    "np.save('RegulFind/'+FinalSelMuse['SN Name'][i]+'.gasFlux.npy',gasFluxList)\n",
    "np.save('RegulFind/'+FinalSelMuse['SN Name'][i]+'.weights.npy',weightList)\n",
    "np.save('RegulFind/'+FinalSelMuse['SN Name'][i]+'.chi2.npy',chi2List)"
   ]
  },
  {
   "cell_type": "markdown",
   "metadata": {},
   "source": [
    "# The Chi-Square Statistics\n",
    "This is the code finding the smoothed SFH among all the searched regul parameters.  "
   ]
  },
  {
   "cell_type": "code",
   "execution_count": null,
   "metadata": {},
   "outputs": [],
   "source": [
    "i=122"
   ]
  },
  {
   "cell_type": "code",
   "execution_count": null,
   "metadata": {},
   "outputs": [],
   "source": [
    "def specMaxFinder(i):\n",
    "    oldName=FinalSelMuse['ArcName'][i]\n",
    "    newName=oldName.replace('ADP','CDP')\n",
    "    mucu=fits.open('../MuseObject/MuseResample/'+newName+'.fits')\n",
    "    wavestep=float(mucu[1].header['CD3_3'])\n",
    "    wavestart=float(mucu[1].header['CRVAL3'])\n",
    "    waveBase=np.arange(wavestart,mucu[1].shape[0]*wavestep+wavestart,wavestep)\n",
    "    waveBase=waveBase/(1+FinalSelMuse['Redshift'][i])\n",
    "    SPmask=np.load('../MuseMasker/FinalMask2/'+str(i)+'_'+FinalSelMuse['SN Name'][i]+'.npy')\n",
    "\n",
    "    coordX=[]\n",
    "    coordY=[]\n",
    "    snrList=[]\n",
    "    for x in range(mucu[1].data.shape[1]):\n",
    "        for y in range(mucu[1].data.shape[2]):\n",
    "            if SPmask[x,y]==False:continue\n",
    "            flux=mucu[1].data[:,x,y]\n",
    "            flux=flux[np.isnan(flux)==False]\n",
    "            if len(flux)<mucu[1].data.shape[0]/2:continue\n",
    "            signal,noise=DER_SNR(flux)\n",
    "            snrList.append(signal/noise)\n",
    "            coordX.append(x)\n",
    "            coordY.append(y)\n",
    "    coordX=np.array(coordX)\n",
    "    coordY=np.array(coordY)\n",
    "    snrList=np.array(snrList)\n",
    "    snrMax=np.argmax(snrList)\n",
    "\n",
    "\n",
    "    xpix,ypix=coordX[snrMax],coordY[snrMax]\n",
    "    mask=np.isnan(mucu[1].data[:,xpix,ypix])\n",
    "    assert np.sum(mask==0)>len(mask)/2\n",
    "    flux=mucu[1].data[:,xpix,ypix]\n",
    "    ferr=mucu[2].data[:,xpix,ypix]\n",
    "    flux=flux[mask==0]\n",
    "    wave=waveBase[mask==0]\n",
    "    ferr=ferr[mask==0]**0.5\n",
    "    spec=np.array([wave,flux,ferr]).T\n",
    "    return spec"
   ]
  },
  {
   "cell_type": "code",
   "execution_count": null,
   "metadata": {},
   "outputs": [],
   "source": [
    "fitFluxList=np.load('RegulFind/'+FinalSelMuse['SN Name'][i]+'.fitFlux.npy')\n",
    "gasFluxList=np.load('RegulFind/'+FinalSelMuse['SN Name'][i]+'.gasFlux.npy')\n",
    "weightList=np.load('RegulFind/'+FinalSelMuse['SN Name'][i]+'.weights.npy')\n",
    "chi2List=np.load('RegulFind/'+FinalSelMuse['SN Name'][i]+'.chi2.npy')\n",
    "\n",
    "weightListFlat=weightList.sum(axis=2)\n",
    "avgAge=(weightListFlat*np.log10(agestep)).sum(axis=1)\n",
    "chi2List[np.abs(avgAge-avgAge[-1])>0.3]=9*10**99\n",
    "lenFlux=len(fitFluxList[-1])\n",
    "dchiList=(chi2List-chi2List[-1])/chi2List[-1]*lenFlux\n",
    "regu=np.argmin(np.abs(dchiList-(2*lenFlux)**0.5))\n",
    "if regu>=19:regu=18\n",
    "reguChos=regu\n",
    "regu=regulList[regu]\n",
    "RegulList[i]=regu\n",
    "\n",
    "spec=specMaxFinder(i)\n",
    "spec[:,1]=spec[:,1]/np.nanmedian(spec[:,1])\n",
    "\n",
    "reguSelList=[0,5,10,15,19]\n",
    "for j,reguSel in enumerate(reguSelList):\n",
    "    plt.subplot(2,6,j+1)\n",
    "    plt.plot(spec[:,0],spec[:,1])\n",
    "    plt.plot(spec[:,0],fitFluxList[reguSel])\n",
    "    plt.title('Regul:'+str(reguSel)+' '+str(regulList[reguSel]))\n",
    "    plt.subplot(2,6,j+7)\n",
    "    miles.plot(weightList[reguSel])\n",
    "plt.subplot(2,6,6)\n",
    "plt.plot(spec[:,0],spec[:,1])\n",
    "plt.plot(spec[:,0],fitFluxList[reguSel])\n",
    "plt.title('Regul Chosen:'+str(reguChos)+' '+str(regulList[reguChos]))\n",
    "plt.subplot(2,6,12)\n",
    "miles.plot(weightList[reguChos])\n",
    "plt.gcf().set_size_inches(30,10)\n",
    "#plt.savefig('plotout/plotMd4/'+str(i)+'_'+FinalSelMuse['SN Name'][i]+'.png')\n"
   ]
  },
  {
   "cell_type": "code",
   "execution_count": null,
   "metadata": {},
   "outputs": [],
   "source": [
    "ls ../MuseRegulFind"
   ]
  },
  {
   "cell_type": "code",
   "execution_count": null,
   "metadata": {},
   "outputs": [],
   "source": [
    "ls -alht"
   ]
  },
  {
   "cell_type": "code",
   "execution_count": null,
   "metadata": {},
   "outputs": [],
   "source": [
    "!du -h GroupMap"
   ]
  },
  {
   "cell_type": "code",
   "execution_count": null,
   "metadata": {},
   "outputs": [],
   "source": []
  }
 ],
 "metadata": {
  "kernelspec": {
   "display_name": "Python 3",
   "language": "python",
   "name": "python3"
  },
  "language_info": {
   "codemirror_mode": {
    "name": "ipython",
    "version": 3
   },
   "file_extension": ".py",
   "mimetype": "text/x-python",
   "name": "python",
   "nbconvert_exporter": "python",
   "pygments_lexer": "ipython3",
   "version": "3.6.7"
  }
 },
 "nbformat": 4,
 "nbformat_minor": 2
}
